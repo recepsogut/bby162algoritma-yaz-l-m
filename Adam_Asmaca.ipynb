{
  "nbformat": 4,
  "nbformat_minor": 0,
  "metadata": {
    "colab": {
      "name": "Adam Asmaca.ipynb",
      "provenance": []
    },
    "kernelspec": {
      "name": "python3",
      "display_name": "Python 3"
    }
  },
  "cells": [
    {
      "cell_type": "markdown",
      "metadata": {
        "id": "ommgu5M4Gbhh",
        "colab_type": "text"
      },
      "source": [
        "## Recep Söğüt\n",
        "\n",
        "\n",
        "> Indented block\n",
        "\n"
      ]
    },
    {
      "cell_type": "code",
      "metadata": {
        "id": "8n6yJ5eGlwt-",
        "colab_type": "code",
        "colab": {
          "base_uri": "https://localhost:8080/",
          "height": 349
        },
        "outputId": "8ced7a97-d5f9-4169-b50f-4c8ed7779522"
      },
      "source": [
        "import random, sys\n",
        "\n",
        "sehirler = [\"istanbul\",\"eskişehir\",\"izmir\",\"ankara\",\"bilecik\",\"konya\",\"denizli\"]\n",
        "sehir = random.choice(sehirler)\n",
        "kelimeler = list(sehir.strip())\n",
        "kelimeb = len(kelimeler)\n",
        "bul = []\n",
        "for l in range(kelimeb):\n",
        "    bul += \"-\"\n",
        "\n",
        "can = 6\n",
        "\n",
        "while 0 < can:\n",
        "    i = 0\n",
        "    girilen = input(\"\\nBir harf giriniz(küçük harf kullanınız.) :\")\n",
        "    for l in range(kelimeb):\n",
        "        if girilen == kelimeler[l]:\n",
        "            bul[l] = kelimeler[l]\n",
        "            i = 1\n",
        "    if i == 0:\n",
        "        can = can - 1\n",
        "    print(bul)\n",
        "    print(\"\\nKalan canınız: \" + str(can))\n",
        "    if bul == kelimeler:\n",
        "        print(\"Oyunu kazandınız.\")\n",
        "        sys.exit()\n",
        "if can == 0:\n",
        "    print(\"Oyunu kaybettiniz.\")\n",
        "    sys.exit()"
      ],
      "execution_count": 0,
      "outputs": [
        {
          "output_type": "stream",
          "text": [
            "\n",
            "Bir harf giriniz(küçük harf kullanınız.) :i\n",
            "['-', '-', '-', 'i', '-', '-', '-', 'i', '-']\n",
            "\n",
            "Kalan canınız: 6\n",
            "\n",
            "Bir harf giriniz(küçük harf kullanınız.) :c\n",
            "['-', '-', '-', 'i', '-', '-', '-', 'i', '-']\n",
            "\n",
            "Kalan canınız: 5\n",
            "\n",
            "Bir harf giriniz(küçük harf kullanınız.) :e\n",
            "['e', '-', '-', 'i', '-', 'e', '-', 'i', '-']\n",
            "\n",
            "Kalan canınız: 5\n"
          ],
          "name": "stdout"
        }
      ]
    }
  ]
}