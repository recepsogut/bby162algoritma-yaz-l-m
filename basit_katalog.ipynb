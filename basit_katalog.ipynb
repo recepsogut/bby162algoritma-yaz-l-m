{
  "nbformat": 4,
  "nbformat_minor": 0,
  "metadata": {
    "colab": {
      "name": "basit_katalog.ipynb",
      "provenance": [],
      "authorship_tag": "ABX9TyPL1ZS5iMmfjzw6gZe0/IyS",
      "include_colab_link": true
    },
    "kernelspec": {
      "name": "python3",
      "display_name": "Python 3"
    }
  },
  "cells": [
    {
      "cell_type": "markdown",
      "metadata": {
        "id": "view-in-github",
        "colab_type": "text"
      },
      "source": [
        "<a href=\"https://colab.research.google.com/github/recepsogut/bby162algoritma-yaz-l-m/blob/master/basit_katalog.ipynb\" target=\"_parent\"><img src=\"https://colab.research.google.com/assets/colab-badge.svg\" alt=\"Open In Colab\"/></a>"
      ]
    },
    {
      "cell_type": "code",
      "metadata": {
        "id": "YlYpNvcNoS0a",
        "colab_type": "code",
        "colab": {
          "base_uri": "https://localhost:8080/",
          "height": 182
        },
        "outputId": "c79b0282-41b9-408d-a964-caa80c0f50f6"
      },
      "source": [
        "from google.colab import drive\n",
        "drive.mount('/gdrive')\n",
        "dosya = \"/gdrive/My Drive/Colab Notebooks/bby162/kitap_listesi.txt\"\n",
        "\n",
        "islem = input(\" bütün eserleri listelemek için '1' tuşuna basınız\\n\"\n",
        "              \" eser eklemek için '2' tuşuna basınız\\n\"  )\n",
        "if islem == \"1\":\n",
        "        yapilacak=open(dosya,\"r\")\n",
        "        print(yapilacak.read())\n",
        "      \n",
        "elif islem == \"2\":\n",
        "        Yazar = input(\"Yazar adı: \")\n",
        "        KitapAdi = input(\"Kitap Adı: \")\n",
        "        YayinTarihi = input(\"Yayın tarihi: \")\n",
        "        ISBN= input(\"ISBN numarası: \")\n",
        "        Yayinevi = input(\"Yayınevi: \")\n",
        "        dosya = open(dosya, \"a\")\n",
        "        dosya.write(Yazar + \"|\" + KitapAdi + \"|\" + YayinTarihi+ \"|\"+ ISBN + \"|\" + Yayinevi)\n",
        "        dosya.close()\n",
        "else: \n",
        "        print(\"Hatalı Tuşlama\")"
      ],
      "execution_count": 1,
      "outputs": [
        {
          "output_type": "stream",
          "text": [
            "Drive already mounted at /gdrive; to attempt to forcibly remount, call drive.mount(\"/gdrive\", force_remount=True).\n",
            " tüm eserleri listelemek için '1' tuşuna basınız\n",
            " yeni bir eser eklemek için '2' tuşuna basınız\n",
            "2\n",
            "Yazar adı: Oğuz Atay\n",
            "Kitap Adı: Korkuyu Beklerken\n",
            "Yayın tarihi: 1987\n",
            "ISBN numarası: 12563458\n",
            "Yayınevi: İletişim\n"
          ],
          "name": "stdout"
        }
      ]
    }
  ]
}